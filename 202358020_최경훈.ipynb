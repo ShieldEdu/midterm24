{
  "nbformat": 4,
  "nbformat_minor": 0,
  "metadata": {
    "colab": {
      "provenance": [],
      "include_colab_link": true
    },
    "kernelspec": {
      "name": "python3",
      "display_name": "Python 3"
    },
    "language_info": {
      "name": "python"
    }
  },
  "cells": [
    {
      "cell_type": "markdown",
      "metadata": {
        "id": "view-in-github",
        "colab_type": "text"
      },
      "source": [
        "<a href=\"https://colab.research.google.com/github/ShieldEdu/midterm24/blob/main/202358020_%EC%B5%9C%EA%B2%BD%ED%9B%88.ipynb\" target=\"_parent\"><img src=\"https://colab.research.google.com/assets/colab-badge.svg\" alt=\"Open In Colab\"/></a>"
      ]
    },
    {
      "cell_type": "markdown",
      "source": [
        "# 😍 First instruction was to write your name and ID here"
      ],
      "metadata": {
        "id": "pm7SyE3gmF3Z"
      }
    },
    {
      "cell_type": "markdown",
      "source": [
        "##variable question (😍 Goog job)\n"
      ],
      "metadata": {
        "id": "HpEP3AqUn8EL"
      }
    },
    {
      "cell_type": "code",
      "execution_count": 1,
      "metadata": {
        "id": "BB9-Su34mxgv",
        "colab": {
          "base_uri": "https://localhost:8080/"
        },
        "outputId": "dfbc907f-4039-44c7-81b5-9de91fdf121c"
      },
      "outputs": [
        {
          "output_type": "stream",
          "name": "stdout",
          "text": [
            "Enter your name: MLK316\n",
            "Enter your birth year: 1990\n",
            "Enter your region: Seoul\n",
            "Name: MLK316\n",
            "Hello, my name is MLK316. I was born in 1990, and I'm from Seoul. Nice to meet you.\n"
          ]
        }
      ],
      "source": [
        "name = input(\"Enter your name: \")\n",
        "birth_year = input(\"Enter your birth year: \")\n",
        "region = input(\"Enter your region: \")\n",
        "\n",
        "print(f\"Name: {name}\")\n",
        "print(f\"Hello, my name is {name}. I was born in {birth_year}, and I'm from {region}. Nice to meet you.\")"
      ]
    },
    {
      "cell_type": "markdown",
      "source": [
        "##Index Question (😍The original code showed how you make a dropdown box)"
      ],
      "metadata": {
        "id": "DIclJWO_pCOl"
      }
    },
    {
      "cell_type": "code",
      "source": [
        "cardinal_number = \"1\"\n",
        "cardinal_number = int(cardinal_number)\n",
        "\n",
        "words = [\"First\", \"Second\", \"Third\", \"Fourth\"]\n",
        "\n",
        "print(\"The ordinal expression:\", words[cardinal_number - 1])"
      ],
      "metadata": {
        "id": "52POT4jepw92",
        "colab": {
          "base_uri": "https://localhost:8080/"
        },
        "outputId": "f2f42439-33cd-4e65-d1d5-4721a68c64b7"
      },
      "execution_count": 2,
      "outputs": [
        {
          "output_type": "stream",
          "name": "stdout",
          "text": [
            "The ordinal expression: First\n"
          ]
        }
      ]
    },
    {
      "cell_type": "markdown",
      "source": [
        "😍 So see the code below and compare what is better and why."
      ],
      "metadata": {
        "id": "qClR7TKMmmiT"
      }
    },
    {
      "cell_type": "code",
      "source": [
        "# Dropdown\n",
        "\n",
        "cardinal_number = \"2\" #@param = [\"1\",\"2\",\"3\",\"4\"]\n",
        "\n",
        "# Add one line of code below\n",
        "cardinal_number = int(cardinal_number)\n",
        "\n",
        "# Ordinal expression as a list\n",
        "\n",
        "words = [\"First\", \"Second\", \"Third\",\"Fourth\"]\n",
        "\n",
        "print(\"The ordinal expression:\", words[cardinal_number-1])"
      ],
      "metadata": {
        "cellView": "form",
        "id": "qwCyis6AmrT-",
        "outputId": "318fb6c0-47ba-4634-caa5-aaea42bba29e",
        "colab": {
          "base_uri": "https://localhost:8080/"
        }
      },
      "execution_count": 3,
      "outputs": [
        {
          "output_type": "stream",
          "name": "stdout",
          "text": [
            "The ordinal expression: Second\n"
          ]
        }
      ]
    },
    {
      "cell_type": "markdown",
      "source": [
        "##Name Question (😍 The idea is that the user can type his name and the output repeats it. So, check the code below and see how your code is revised)"
      ],
      "metadata": {
        "id": "PJCmIBfjpWIC"
      }
    },
    {
      "cell_type": "code",
      "source": [
        "#Name question\n",
        "x=\"My name is \"\n",
        "y=\"your name.\"\n",
        "print(x+y)\n",
        "print(x+\"Gyeong-hoon Choi.\")"
      ],
      "metadata": {
        "id": "oZHdhP3LpwLo",
        "colab": {
          "base_uri": "https://localhost:8080/"
        },
        "outputId": "db742208-a5c6-460b-f2a5-16305fbb3717"
      },
      "execution_count": 4,
      "outputs": [
        {
          "output_type": "stream",
          "name": "stdout",
          "text": [
            "My name is your name.\n",
            "My name is Gyeong-hoon Choi.\n"
          ]
        }
      ]
    },
    {
      "cell_type": "code",
      "source": [
        "#Name question\n",
        "x=\"My name is \"\n",
        "y=input()    # Here, you can type your name\n",
        "print(x+y)"
      ],
      "metadata": {
        "id": "-0erXYeUnHP6",
        "outputId": "1c860fdb-aa41-4b17-a644-487856041618",
        "colab": {
          "base_uri": "https://localhost:8080/"
        }
      },
      "execution_count": 5,
      "outputs": [
        {
          "output_type": "stream",
          "name": "stdout",
          "text": [
            "Gyeong-hoon Choi\n",
            "My name is Gyeong-hoon Choi\n"
          ]
        }
      ]
    },
    {
      "cell_type": "markdown",
      "source": [
        "😍If you want to meet the punctuation:"
      ],
      "metadata": {
        "id": "WdB2xrXEnREQ"
      }
    },
    {
      "cell_type": "code",
      "source": [
        "#Name question\n",
        "x=\"My name is \"\n",
        "y=input()    # Here, you can type your name\n",
        "end = \".\"\n",
        "print(x+y+end)"
      ],
      "metadata": {
        "id": "ofT7ScBRnWaT",
        "outputId": "4a3bbc99-70d9-418e-bf6b-87a350ba71f8",
        "colab": {
          "base_uri": "https://localhost:8080/"
        }
      },
      "execution_count": 7,
      "outputs": [
        {
          "output_type": "stream",
          "name": "stdout",
          "text": [
            "Gyeong-hoon Choi\n",
            "My name is Gyeong-hoon Choi.\n"
          ]
        }
      ]
    },
    {
      "cell_type": "markdown",
      "source": [
        "##Function Question (😍 Goog job!)"
      ],
      "metadata": {
        "id": "8kYfumeupSoZ"
      }
    },
    {
      "cell_type": "code",
      "source": [
        "# Define a function for multiplication\n",
        "def divide(x, y):\n",
        "    return x / y\n",
        "\n",
        "# Test the function\n",
        "result = divide(20, 4)\n",
        "print(\"The result of division is:\", result)\n"
      ],
      "metadata": {
        "id": "US3ahrOjpvl0",
        "colab": {
          "base_uri": "https://localhost:8080/"
        },
        "outputId": "27ef7e6b-6736-4b24-c146-6697f81c85ad"
      },
      "execution_count": 8,
      "outputs": [
        {
          "output_type": "stream",
          "name": "stdout",
          "text": [
            "The result of division is: 5.0\n"
          ]
        }
      ]
    },
    {
      "cell_type": "markdown",
      "source": [
        "\n",
        "\n",
        "##Dictionary Question (😍Good job)\n"
      ],
      "metadata": {
        "id": "O9bjsnU9phaW"
      }
    },
    {
      "cell_type": "code",
      "source": [
        "grades = {'Alice': '90','Bob': '80','Charlie': '70'}\n",
        "print(grades['Bob'])"
      ],
      "metadata": {
        "id": "LROPad11piQp",
        "colab": {
          "base_uri": "https://localhost:8080/"
        },
        "outputId": "edcf87b0-7850-4ce7-e61e-aac8feb0f727"
      },
      "execution_count": 9,
      "outputs": [
        {
          "output_type": "stream",
          "name": "stdout",
          "text": [
            "80\n"
          ]
        }
      ]
    },
    {
      "cell_type": "markdown",
      "source": [
        "😍 However, check the code below. The output in the above will be string (datatype) and the output below will be integer (number)"
      ],
      "metadata": {
        "id": "rkbwi0HynrVP"
      }
    },
    {
      "cell_type": "code",
      "source": [
        "grades = {'Alice': 90,'Bob': 80,'Charlie': 70}\n",
        "print(grades['Bob'])"
      ],
      "metadata": {
        "id": "bMs0pv2pnt_N",
        "outputId": "1b3ea58f-d95e-4294-9898-8bc76d710065",
        "colab": {
          "base_uri": "https://localhost:8080/"
        }
      },
      "execution_count": 10,
      "outputs": [
        {
          "output_type": "stream",
          "name": "stdout",
          "text": [
            "80\n"
          ]
        }
      ]
    },
    {
      "cell_type": "markdown",
      "source": [
        "##GTTS Question\n",
        "\n",
        "😍 Goog that you are now able to search code and use it outside of our course!"
      ],
      "metadata": {
        "id": "35AC2vT3pjwq"
      }
    },
    {
      "cell_type": "code",
      "source": [
        "# First, install the gTTS library if you haven't already\n",
        "!pip install gTTS\n",
        "\n",
        "# Import the gTTS library\n",
        "from gtts import gTTS\n",
        "\n",
        "# Import IPython display module\n",
        "from IPython.display import Audio, display"
      ],
      "metadata": {
        "id": "wFodZPqlplOo",
        "colab": {
          "base_uri": "https://localhost:8080/"
        },
        "outputId": "66e4a8a7-6348-4381-9a6e-f860859c39ff"
      },
      "execution_count": 11,
      "outputs": [
        {
          "output_type": "stream",
          "name": "stdout",
          "text": [
            "Collecting gTTS\n",
            "  Downloading gTTS-2.5.1-py3-none-any.whl (29 kB)\n",
            "Requirement already satisfied: requests<3,>=2.27 in /usr/local/lib/python3.10/dist-packages (from gTTS) (2.31.0)\n",
            "Requirement already satisfied: click<8.2,>=7.1 in /usr/local/lib/python3.10/dist-packages (from gTTS) (8.1.7)\n",
            "Requirement already satisfied: charset-normalizer<4,>=2 in /usr/local/lib/python3.10/dist-packages (from requests<3,>=2.27->gTTS) (3.3.2)\n",
            "Requirement already satisfied: idna<4,>=2.5 in /usr/local/lib/python3.10/dist-packages (from requests<3,>=2.27->gTTS) (3.7)\n",
            "Requirement already satisfied: urllib3<3,>=1.21.1 in /usr/local/lib/python3.10/dist-packages (from requests<3,>=2.27->gTTS) (2.0.7)\n",
            "Requirement already satisfied: certifi>=2017.4.17 in /usr/local/lib/python3.10/dist-packages (from requests<3,>=2.27->gTTS) (2024.2.2)\n",
            "Installing collected packages: gTTS\n",
            "Successfully installed gTTS-2.5.1\n"
          ]
        }
      ]
    },
    {
      "cell_type": "code",
      "source": [
        "def speak():\n",
        "    text = input(\"Please type a sentence to convert to speech: \")\n",
        "    language = 'en'\n",
        "    speech = gTTS(text=text, lang=language, slow=False)\n",
        "    speech.save('output.mp3')\n",
        "    display(Audio('output.mp3', autoplay=True))\n",
        "\n",
        "speak()"
      ],
      "metadata": {
        "colab": {
          "base_uri": "https://localhost:8080/",
          "height": 92
        },
        "id": "-_EDucCw1vm9",
        "outputId": "bf07bed5-c953-4abd-cb3f-a9d46c6a99e7"
      },
      "execution_count": 12,
      "outputs": [
        {
          "name": "stdout",
          "output_type": "stream",
          "text": [
            "Please type a sentence to convert to speech: Where did you get this code?\n"
          ]
        },
        {
          "output_type": "display_data",
          "data": {
            "text/plain": [
              "<IPython.lib.display.Audio object>"
            ],
            "text/html": [
              "\n",
              "                <audio  controls=\"controls\" autoplay=\"autoplay\">\n",
              "                    <source src=\"data:audio/mpeg;base64,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\" type=\"audio/mpeg\" />\n",
              "                    Your browser does not support the audio element.\n",
              "                </audio>\n",
              "              "
            ]
          },
          "metadata": {}
        }
      ]
    },
    {
      "cell_type": "markdown",
      "source": [
        "##Audio Question\n",
        "\n",
        "😍 To install multiple packages:\n",
        "\n",
        "```\n",
        "!pip install gradio gtts\n",
        "```"
      ],
      "metadata": {
        "id": "XGc4YD7npl7p"
      }
    },
    {
      "cell_type": "code",
      "source": [
        "!pip install gradio\n"
      ],
      "metadata": {
        "id": "iMCHZLdupnoh",
        "colab": {
          "base_uri": "https://localhost:8080/"
        },
        "outputId": "ff488262-b9c3-4acf-afca-5570bf5807ac"
      },
      "execution_count": 13,
      "outputs": [
        {
          "output_type": "stream",
          "name": "stdout",
          "text": [
            "Collecting gradio\n",
            "  Downloading gradio-4.28.3-py3-none-any.whl (12.2 MB)\n",
            "\u001b[2K     \u001b[90m━━━━━━━━━━━━━━━━━━━━━━━━━━━━━━━━━━━━━━━━\u001b[0m \u001b[32m12.2/12.2 MB\u001b[0m \u001b[31m80.6 MB/s\u001b[0m eta \u001b[36m0:00:00\u001b[0m\n",
            "\u001b[?25hCollecting aiofiles<24.0,>=22.0 (from gradio)\n",
            "  Downloading aiofiles-23.2.1-py3-none-any.whl (15 kB)\n",
            "Requirement already satisfied: altair<6.0,>=4.2.0 in /usr/local/lib/python3.10/dist-packages (from gradio) (4.2.2)\n",
            "Collecting fastapi (from gradio)\n",
            "  Downloading fastapi-0.110.3-py3-none-any.whl (91 kB)\n",
            "\u001b[2K     \u001b[90m━━━━━━━━━━━━━━━━━━━━━━━━━━━━━━━━━━━━━━━━\u001b[0m \u001b[32m91.8/91.8 kB\u001b[0m \u001b[31m13.6 MB/s\u001b[0m eta \u001b[36m0:00:00\u001b[0m\n",
            "\u001b[?25hCollecting ffmpy (from gradio)\n",
            "  Downloading ffmpy-0.3.2.tar.gz (5.5 kB)\n",
            "  Preparing metadata (setup.py) ... \u001b[?25l\u001b[?25hdone\n",
            "Collecting gradio-client==0.16.0 (from gradio)\n",
            "  Downloading gradio_client-0.16.0-py3-none-any.whl (314 kB)\n",
            "\u001b[2K     \u001b[90m━━━━━━━━━━━━━━━━━━━━━━━━━━━━━━━━━━━━━━━━\u001b[0m \u001b[32m314.4/314.4 kB\u001b[0m \u001b[31m26.8 MB/s\u001b[0m eta \u001b[36m0:00:00\u001b[0m\n",
            "\u001b[?25hCollecting httpx>=0.24.1 (from gradio)\n",
            "  Downloading httpx-0.27.0-py3-none-any.whl (75 kB)\n",
            "\u001b[2K     \u001b[90m━━━━━━━━━━━━━━━━━━━━━━━━━━━━━━━━━━━━━━━━\u001b[0m \u001b[32m75.6/75.6 kB\u001b[0m \u001b[31m10.8 MB/s\u001b[0m eta \u001b[36m0:00:00\u001b[0m\n",
            "\u001b[?25hRequirement already satisfied: huggingface-hub>=0.19.3 in /usr/local/lib/python3.10/dist-packages (from gradio) (0.20.3)\n",
            "Requirement already satisfied: importlib-resources<7.0,>=1.3 in /usr/local/lib/python3.10/dist-packages (from gradio) (6.4.0)\n",
            "Requirement already satisfied: jinja2<4.0 in /usr/local/lib/python3.10/dist-packages (from gradio) (3.1.3)\n",
            "Requirement already satisfied: markupsafe~=2.0 in /usr/local/lib/python3.10/dist-packages (from gradio) (2.1.5)\n",
            "Requirement already satisfied: matplotlib~=3.0 in /usr/local/lib/python3.10/dist-packages (from gradio) (3.7.1)\n",
            "Requirement already satisfied: numpy~=1.0 in /usr/local/lib/python3.10/dist-packages (from gradio) (1.25.2)\n",
            "Collecting orjson~=3.0 (from gradio)\n",
            "  Downloading orjson-3.10.1-cp310-cp310-manylinux_2_17_x86_64.manylinux2014_x86_64.whl (141 kB)\n",
            "\u001b[2K     \u001b[90m━━━━━━━━━━━━━━━━━━━━━━━━━━━━━━━━━━━━━━━━\u001b[0m \u001b[32m141.1/141.1 kB\u001b[0m \u001b[31m19.5 MB/s\u001b[0m eta \u001b[36m0:00:00\u001b[0m\n",
            "\u001b[?25hRequirement already satisfied: packaging in /usr/local/lib/python3.10/dist-packages (from gradio) (24.0)\n",
            "Requirement already satisfied: pandas<3.0,>=1.0 in /usr/local/lib/python3.10/dist-packages (from gradio) (2.0.3)\n",
            "Requirement already satisfied: pillow<11.0,>=8.0 in /usr/local/lib/python3.10/dist-packages (from gradio) (9.4.0)\n",
            "Requirement already satisfied: pydantic>=2.0 in /usr/local/lib/python3.10/dist-packages (from gradio) (2.7.0)\n",
            "Collecting pydub (from gradio)\n",
            "  Downloading pydub-0.25.1-py2.py3-none-any.whl (32 kB)\n",
            "Collecting python-multipart>=0.0.9 (from gradio)\n",
            "  Downloading python_multipart-0.0.9-py3-none-any.whl (22 kB)\n",
            "Requirement already satisfied: pyyaml<7.0,>=5.0 in /usr/local/lib/python3.10/dist-packages (from gradio) (6.0.1)\n",
            "Collecting ruff>=0.2.2 (from gradio)\n",
            "  Downloading ruff-0.4.2-py3-none-manylinux_2_17_x86_64.manylinux2014_x86_64.whl (8.8 MB)\n",
            "\u001b[2K     \u001b[90m━━━━━━━━━━━━━━━━━━━━━━━━━━━━━━━━━━━━━━━━\u001b[0m \u001b[32m8.8/8.8 MB\u001b[0m \u001b[31m88.1 MB/s\u001b[0m eta \u001b[36m0:00:00\u001b[0m\n",
            "\u001b[?25hCollecting semantic-version~=2.0 (from gradio)\n",
            "  Downloading semantic_version-2.10.0-py2.py3-none-any.whl (15 kB)\n",
            "Collecting tomlkit==0.12.0 (from gradio)\n",
            "  Downloading tomlkit-0.12.0-py3-none-any.whl (37 kB)\n",
            "Collecting typer<1.0,>=0.12 (from gradio)\n",
            "  Downloading typer-0.12.3-py3-none-any.whl (47 kB)\n",
            "\u001b[2K     \u001b[90m━━━━━━━━━━━━━━━━━━━━━━━━━━━━━━━━━━━━━━━━\u001b[0m \u001b[32m47.2/47.2 kB\u001b[0m \u001b[31m6.8 MB/s\u001b[0m eta \u001b[36m0:00:00\u001b[0m\n",
            "\u001b[?25hRequirement already satisfied: typing-extensions~=4.0 in /usr/local/lib/python3.10/dist-packages (from gradio) (4.11.0)\n",
            "Requirement already satisfied: urllib3~=2.0 in /usr/local/lib/python3.10/dist-packages (from gradio) (2.0.7)\n",
            "Collecting uvicorn>=0.14.0 (from gradio)\n",
            "  Downloading uvicorn-0.29.0-py3-none-any.whl (60 kB)\n",
            "\u001b[2K     \u001b[90m━━━━━━━━━━━━━━━━━━━━━━━━━━━━━━━━━━━━━━━━\u001b[0m \u001b[32m60.8/60.8 kB\u001b[0m \u001b[31m8.2 MB/s\u001b[0m eta \u001b[36m0:00:00\u001b[0m\n",
            "\u001b[?25hRequirement already satisfied: fsspec in /usr/local/lib/python3.10/dist-packages (from gradio-client==0.16.0->gradio) (2023.6.0)\n",
            "Collecting websockets<12.0,>=10.0 (from gradio-client==0.16.0->gradio)\n",
            "  Downloading websockets-11.0.3-cp310-cp310-manylinux_2_5_x86_64.manylinux1_x86_64.manylinux_2_17_x86_64.manylinux2014_x86_64.whl (129 kB)\n",
            "\u001b[2K     \u001b[90m━━━━━━━━━━━━━━━━━━━━━━━━━━━━━━━━━━━━━━━━\u001b[0m \u001b[32m129.9/129.9 kB\u001b[0m \u001b[31m16.4 MB/s\u001b[0m eta \u001b[36m0:00:00\u001b[0m\n",
            "\u001b[?25hRequirement already satisfied: entrypoints in /usr/local/lib/python3.10/dist-packages (from altair<6.0,>=4.2.0->gradio) (0.4)\n",
            "Requirement already satisfied: jsonschema>=3.0 in /usr/local/lib/python3.10/dist-packages (from altair<6.0,>=4.2.0->gradio) (4.19.2)\n",
            "Requirement already satisfied: toolz in /usr/local/lib/python3.10/dist-packages (from altair<6.0,>=4.2.0->gradio) (0.12.1)\n",
            "Requirement already satisfied: anyio in /usr/local/lib/python3.10/dist-packages (from httpx>=0.24.1->gradio) (3.7.1)\n",
            "Requirement already satisfied: certifi in /usr/local/lib/python3.10/dist-packages (from httpx>=0.24.1->gradio) (2024.2.2)\n",
            "Collecting httpcore==1.* (from httpx>=0.24.1->gradio)\n",
            "  Downloading httpcore-1.0.5-py3-none-any.whl (77 kB)\n",
            "\u001b[2K     \u001b[90m━━━━━━━━━━━━━━━━━━━━━━━━━━━━━━━━━━━━━━━━\u001b[0m \u001b[32m77.9/77.9 kB\u001b[0m \u001b[31m10.7 MB/s\u001b[0m eta \u001b[36m0:00:00\u001b[0m\n",
            "\u001b[?25hRequirement already satisfied: idna in /usr/local/lib/python3.10/dist-packages (from httpx>=0.24.1->gradio) (3.7)\n",
            "Requirement already satisfied: sniffio in /usr/local/lib/python3.10/dist-packages (from httpx>=0.24.1->gradio) (1.3.1)\n",
            "Collecting h11<0.15,>=0.13 (from httpcore==1.*->httpx>=0.24.1->gradio)\n",
            "  Downloading h11-0.14.0-py3-none-any.whl (58 kB)\n",
            "\u001b[2K     \u001b[90m━━━━━━━━━━━━━━━━━━━━━━━━━━━━━━━━━━━━━━━━\u001b[0m \u001b[32m58.3/58.3 kB\u001b[0m \u001b[31m7.6 MB/s\u001b[0m eta \u001b[36m0:00:00\u001b[0m\n",
            "\u001b[?25hRequirement already satisfied: filelock in /usr/local/lib/python3.10/dist-packages (from huggingface-hub>=0.19.3->gradio) (3.13.4)\n",
            "Requirement already satisfied: requests in /usr/local/lib/python3.10/dist-packages (from huggingface-hub>=0.19.3->gradio) (2.31.0)\n",
            "Requirement already satisfied: tqdm>=4.42.1 in /usr/local/lib/python3.10/dist-packages (from huggingface-hub>=0.19.3->gradio) (4.66.2)\n",
            "Requirement already satisfied: contourpy>=1.0.1 in /usr/local/lib/python3.10/dist-packages (from matplotlib~=3.0->gradio) (1.2.1)\n",
            "Requirement already satisfied: cycler>=0.10 in /usr/local/lib/python3.10/dist-packages (from matplotlib~=3.0->gradio) (0.12.1)\n",
            "Requirement already satisfied: fonttools>=4.22.0 in /usr/local/lib/python3.10/dist-packages (from matplotlib~=3.0->gradio) (4.51.0)\n",
            "Requirement already satisfied: kiwisolver>=1.0.1 in /usr/local/lib/python3.10/dist-packages (from matplotlib~=3.0->gradio) (1.4.5)\n",
            "Requirement already satisfied: pyparsing>=2.3.1 in /usr/local/lib/python3.10/dist-packages (from matplotlib~=3.0->gradio) (3.1.2)\n",
            "Requirement already satisfied: python-dateutil>=2.7 in /usr/local/lib/python3.10/dist-packages (from matplotlib~=3.0->gradio) (2.8.2)\n",
            "Requirement already satisfied: pytz>=2020.1 in /usr/local/lib/python3.10/dist-packages (from pandas<3.0,>=1.0->gradio) (2023.4)\n",
            "Requirement already satisfied: tzdata>=2022.1 in /usr/local/lib/python3.10/dist-packages (from pandas<3.0,>=1.0->gradio) (2024.1)\n",
            "Requirement already satisfied: annotated-types>=0.4.0 in /usr/local/lib/python3.10/dist-packages (from pydantic>=2.0->gradio) (0.6.0)\n",
            "Requirement already satisfied: pydantic-core==2.18.1 in /usr/local/lib/python3.10/dist-packages (from pydantic>=2.0->gradio) (2.18.1)\n",
            "Requirement already satisfied: click>=8.0.0 in /usr/local/lib/python3.10/dist-packages (from typer<1.0,>=0.12->gradio) (8.1.7)\n",
            "Collecting shellingham>=1.3.0 (from typer<1.0,>=0.12->gradio)\n",
            "  Downloading shellingham-1.5.4-py2.py3-none-any.whl (9.8 kB)\n",
            "Requirement already satisfied: rich>=10.11.0 in /usr/local/lib/python3.10/dist-packages (from typer<1.0,>=0.12->gradio) (13.7.1)\n",
            "Collecting starlette<0.38.0,>=0.37.2 (from fastapi->gradio)\n",
            "  Downloading starlette-0.37.2-py3-none-any.whl (71 kB)\n",
            "\u001b[2K     \u001b[90m━━━━━━━━━━━━━━━━━━━━━━━━━━━━━━━━━━━━━━━━\u001b[0m \u001b[32m71.9/71.9 kB\u001b[0m \u001b[31m8.6 MB/s\u001b[0m eta \u001b[36m0:00:00\u001b[0m\n",
            "\u001b[?25hRequirement already satisfied: attrs>=22.2.0 in /usr/local/lib/python3.10/dist-packages (from jsonschema>=3.0->altair<6.0,>=4.2.0->gradio) (23.2.0)\n",
            "Requirement already satisfied: jsonschema-specifications>=2023.03.6 in /usr/local/lib/python3.10/dist-packages (from jsonschema>=3.0->altair<6.0,>=4.2.0->gradio) (2023.12.1)\n",
            "Requirement already satisfied: referencing>=0.28.4 in /usr/local/lib/python3.10/dist-packages (from jsonschema>=3.0->altair<6.0,>=4.2.0->gradio) (0.34.0)\n",
            "Requirement already satisfied: rpds-py>=0.7.1 in /usr/local/lib/python3.10/dist-packages (from jsonschema>=3.0->altair<6.0,>=4.2.0->gradio) (0.18.0)\n",
            "Requirement already satisfied: six>=1.5 in /usr/local/lib/python3.10/dist-packages (from python-dateutil>=2.7->matplotlib~=3.0->gradio) (1.16.0)\n",
            "Requirement already satisfied: markdown-it-py>=2.2.0 in /usr/local/lib/python3.10/dist-packages (from rich>=10.11.0->typer<1.0,>=0.12->gradio) (3.0.0)\n",
            "Requirement already satisfied: pygments<3.0.0,>=2.13.0 in /usr/local/lib/python3.10/dist-packages (from rich>=10.11.0->typer<1.0,>=0.12->gradio) (2.16.1)\n",
            "Requirement already satisfied: exceptiongroup in /usr/local/lib/python3.10/dist-packages (from anyio->httpx>=0.24.1->gradio) (1.2.1)\n",
            "Requirement already satisfied: charset-normalizer<4,>=2 in /usr/local/lib/python3.10/dist-packages (from requests->huggingface-hub>=0.19.3->gradio) (3.3.2)\n",
            "Requirement already satisfied: mdurl~=0.1 in /usr/local/lib/python3.10/dist-packages (from markdown-it-py>=2.2.0->rich>=10.11.0->typer<1.0,>=0.12->gradio) (0.1.2)\n",
            "Building wheels for collected packages: ffmpy\n",
            "  Building wheel for ffmpy (setup.py) ... \u001b[?25l\u001b[?25hdone\n",
            "  Created wheel for ffmpy: filename=ffmpy-0.3.2-py3-none-any.whl size=5584 sha256=581431b853fda52c6f88215a0e51b09fcbf2c4b71faa7901e8d115d64d073acf\n",
            "  Stored in directory: /root/.cache/pip/wheels/bd/65/9a/671fc6dcde07d4418df0c592f8df512b26d7a0029c2a23dd81\n",
            "Successfully built ffmpy\n",
            "Installing collected packages: pydub, ffmpy, websockets, tomlkit, shellingham, semantic-version, ruff, python-multipart, orjson, h11, aiofiles, uvicorn, starlette, httpcore, typer, httpx, fastapi, gradio-client, gradio\n",
            "  Attempting uninstall: typer\n",
            "    Found existing installation: typer 0.9.4\n",
            "    Uninstalling typer-0.9.4:\n",
            "      Successfully uninstalled typer-0.9.4\n",
            "\u001b[31mERROR: pip's dependency resolver does not currently take into account all the packages that are installed. This behaviour is the source of the following dependency conflicts.\n",
            "spacy 3.7.4 requires typer<0.10.0,>=0.3.0, but you have typer 0.12.3 which is incompatible.\n",
            "weasel 0.3.4 requires typer<0.10.0,>=0.3.0, but you have typer 0.12.3 which is incompatible.\u001b[0m\u001b[31m\n",
            "\u001b[0mSuccessfully installed aiofiles-23.2.1 fastapi-0.110.3 ffmpy-0.3.2 gradio-4.28.3 gradio-client-0.16.0 h11-0.14.0 httpcore-1.0.5 httpx-0.27.0 orjson-3.10.1 pydub-0.25.1 python-multipart-0.0.9 ruff-0.4.2 semantic-version-2.10.0 shellingham-1.5.4 starlette-0.37.2 tomlkit-0.12.0 typer-0.12.3 uvicorn-0.29.0 websockets-11.0.3\n"
          ]
        }
      ]
    },
    {
      "cell_type": "code",
      "source": [
        "!pip install gTTS\n"
      ],
      "metadata": {
        "colab": {
          "base_uri": "https://localhost:8080/"
        },
        "id": "cE-RfVak3sqN",
        "outputId": "ac067a6f-0996-4204-96ac-7f7531f0563c"
      },
      "execution_count": 14,
      "outputs": [
        {
          "output_type": "stream",
          "name": "stdout",
          "text": [
            "Requirement already satisfied: gTTS in /usr/local/lib/python3.10/dist-packages (2.5.1)\n",
            "Requirement already satisfied: requests<3,>=2.27 in /usr/local/lib/python3.10/dist-packages (from gTTS) (2.31.0)\n",
            "Requirement already satisfied: click<8.2,>=7.1 in /usr/local/lib/python3.10/dist-packages (from gTTS) (8.1.7)\n",
            "Requirement already satisfied: charset-normalizer<4,>=2 in /usr/local/lib/python3.10/dist-packages (from requests<3,>=2.27->gTTS) (3.3.2)\n",
            "Requirement already satisfied: idna<4,>=2.5 in /usr/local/lib/python3.10/dist-packages (from requests<3,>=2.27->gTTS) (3.7)\n",
            "Requirement already satisfied: urllib3<3,>=1.21.1 in /usr/local/lib/python3.10/dist-packages (from requests<3,>=2.27->gTTS) (2.0.7)\n",
            "Requirement already satisfied: certifi>=2017.4.17 in /usr/local/lib/python3.10/dist-packages (from requests<3,>=2.27->gTTS) (2024.2.2)\n"
          ]
        }
      ]
    },
    {
      "cell_type": "code",
      "source": [
        "import gradio as gr\n",
        "from gtts import gTTS\n",
        "import os\n",
        "\n",
        "def text_to_speech(text, language):\n",
        "    lang_code = 'en' if language == \"English\" else 'ko'\n",
        "    tts = gTTS(text=text, lang=lang_code, slow=False)\n",
        "    tts.save(\"output.mp3\")\n",
        "    return \"output.mp3\"\n",
        "\n",
        "interface = gr.Interface(\n",
        "    fn=text_to_speech,\n",
        "    inputs=[\n",
        "        gr.Textbox(lines=3, label=\"Enter text\"),\n",
        "        gr.Radio(choices=[\"English\", \"Korean\"], label=\"Select language\")\n",
        "    ],\n",
        "    outputs=gr.Audio(type=\"filepath\", label=\"Audio\"),\n",
        "    title=\"Text-to-Speech\",\n",
        "    description=\"Type in some text, select a language, and generate audio.\",\n",
        ")\n",
        "\n",
        "interface.launch()\n"
      ],
      "metadata": {
        "colab": {
          "base_uri": "https://localhost:8080/",
          "height": 631
        },
        "id": "5LMHDzk77Tu5",
        "outputId": "b8f3a822-cf4c-417c-e309-72606dc16f33"
      },
      "execution_count": 15,
      "outputs": [
        {
          "output_type": "stream",
          "name": "stdout",
          "text": [
            "Setting queue=True in a Colab notebook requires sharing enabled. Setting `share=True` (you can turn this off by setting `share=False` in `launch()` explicitly).\n",
            "\n",
            "Colab notebook detected. To show errors in colab notebook, set debug=True in launch()\n",
            "Running on public URL: https://b98aa48411c426f6fd.gradio.live\n",
            "\n",
            "This share link expires in 72 hours. For free permanent hosting and GPU upgrades, run `gradio deploy` from Terminal to deploy to Spaces (https://huggingface.co/spaces)\n"
          ]
        },
        {
          "output_type": "display_data",
          "data": {
            "text/plain": [
              "<IPython.core.display.HTML object>"
            ],
            "text/html": [
              "<div><iframe src=\"https://b98aa48411c426f6fd.gradio.live\" width=\"100%\" height=\"500\" allow=\"autoplay; camera; microphone; clipboard-read; clipboard-write;\" frameborder=\"0\" allowfullscreen></iframe></div>"
            ]
          },
          "metadata": {}
        },
        {
          "output_type": "execute_result",
          "data": {
            "text/plain": []
          },
          "metadata": {},
          "execution_count": 15
        }
      ]
    },
    {
      "cell_type": "markdown",
      "source": [
        "\n",
        "\n",
        "##Countdown Question"
      ],
      "metadata": {
        "id": "uZ3OT57TpoLj"
      }
    },
    {
      "cell_type": "markdown",
      "source": [
        "😍 Since gradio and gtts are installed in the above, you can skip them here.\n",
        "So, I would put '#' before the code below"
      ],
      "metadata": {
        "id": "n3QkOd11ogWs"
      }
    },
    {
      "cell_type": "code",
      "source": [
        "#!pip install gradio gtts\n"
      ],
      "metadata": {
        "id": "IcXfQYCj52A6"
      },
      "execution_count": null,
      "outputs": []
    },
    {
      "cell_type": "code",
      "source": [
        "import gradio as gr\n",
        "from datetime import datetime\n",
        "\n",
        "def countdown(target_date):\n",
        "    try:\n",
        "        # Parse the user input date\n",
        "        date_format = \"%Y-%m-%d\"\n",
        "        future_date = datetime.strptime(target_date, date_format)\n",
        "\n",
        "        # Get the current time\n",
        "        now = datetime.now()\n",
        "\n",
        "        # Calculate the difference between the future date and the current time\n",
        "        countdown = future_date - now\n",
        "\n",
        "        # Generate the countdown message\n",
        "        if countdown.days >= 0:\n",
        "            return f\"Time until {target_date}: \\n {countdown.days} days, {countdown.seconds//3600} hours, {(countdown.seconds//60)%60} minutes.\"\n",
        "        else:\n",
        "            return \"The specified date has already passed.\"\n",
        "    except ValueError:\n",
        "        return \"Please enter the date in YYYY-MM-DD format.\"\n",
        "\n",
        "# Create the Gradio interface\n",
        "interface = gr.Interface(\n",
        "    fn=countdown,\n",
        "    inputs=gr.Text(label=\"미래의 시간을 입력하세요. (e.g., 2024-12-25)\"),\n",
        "    outputs=\"text\",\n",
        "    title=\"Date Countdown\",\n",
        "    description=\"날짜를 입력하면 지정된 날짜까지 남은 일, 시간, 분을 확인할 수 있습니다.\"\n",
        ")\n",
        "\n",
        "interface.launch()"
      ],
      "metadata": {
        "colab": {
          "base_uri": "https://localhost:8080/",
          "height": 631
        },
        "id": "JSYTbKOY5A3u",
        "outputId": "c07922a4-3b49-4df3-85f4-63dbdf8ad3b1"
      },
      "execution_count": 17,
      "outputs": [
        {
          "output_type": "stream",
          "name": "stdout",
          "text": [
            "Setting queue=True in a Colab notebook requires sharing enabled. Setting `share=True` (you can turn this off by setting `share=False` in `launch()` explicitly).\n",
            "\n",
            "Colab notebook detected. To show errors in colab notebook, set debug=True in launch()\n",
            "Running on public URL: https://9a110095e498e2c88c.gradio.live\n",
            "\n",
            "This share link expires in 72 hours. For free permanent hosting and GPU upgrades, run `gradio deploy` from Terminal to deploy to Spaces (https://huggingface.co/spaces)\n"
          ]
        },
        {
          "output_type": "display_data",
          "data": {
            "text/plain": [
              "<IPython.core.display.HTML object>"
            ],
            "text/html": [
              "<div><iframe src=\"https://9a110095e498e2c88c.gradio.live\" width=\"100%\" height=\"500\" allow=\"autoplay; camera; microphone; clipboard-read; clipboard-write;\" frameborder=\"0\" allowfullscreen></iframe></div>"
            ]
          },
          "metadata": {}
        },
        {
          "output_type": "execute_result",
          "data": {
            "text/plain": []
          },
          "metadata": {},
          "execution_count": 17
        }
      ]
    },
    {
      "cell_type": "markdown",
      "source": [
        "😍 I guess we don't need the code below, right? I saw audio codes ran well in the above."
      ],
      "metadata": {
        "id": "8Caoi70oo0XS"
      }
    },
    {
      "cell_type": "code",
      "source": [
        "import gradio as gr\n",
        "from gtts import gTTS\n",
        "import os\n",
        "\n",
        "def text_to_speech(text, language):\n",
        "    lang_code = 'en' if language == \"English\" else 'ko'\n",
        "    tts = gTTS(text=text, lang=lang_code, slow=False)\n",
        "    tts.save(\"output.mp3\")\n",
        "    return \"output.mp3\"\n",
        "\n",
        "interface = gr.Interface(\n",
        "    fn=text_to_speech,\n",
        "    inputs=[\n",
        "        gr.Textbox(lines=3, label=\"Enter text\"),\n",
        "        gr.Radio(choices=[\"English\", \"Korean\"], label=\"Select language\")\n",
        "    ],\n",
        "    outputs=gr.Audio(type=\"filepath\", label=\"Audio\"),\n",
        "    title=\"Text-to-Speech\",\n",
        "    description=\"Type in some text, select a language, and generate audio.\",\n",
        ")\n",
        "\n",
        "interface.launch()"
      ],
      "metadata": {
        "colab": {
          "base_uri": "https://localhost:8080/",
          "height": 631
        },
        "id": "5iN-xoUw7Bbe",
        "outputId": "599bbc1b-ea03-42e3-b13f-fecc9f069443"
      },
      "execution_count": 18,
      "outputs": [
        {
          "output_type": "stream",
          "name": "stdout",
          "text": [
            "Setting queue=True in a Colab notebook requires sharing enabled. Setting `share=True` (you can turn this off by setting `share=False` in `launch()` explicitly).\n",
            "\n",
            "Colab notebook detected. To show errors in colab notebook, set debug=True in launch()\n",
            "Running on public URL: https://0c31692048d12f33d7.gradio.live\n",
            "\n",
            "This share link expires in 72 hours. For free permanent hosting and GPU upgrades, run `gradio deploy` from Terminal to deploy to Spaces (https://huggingface.co/spaces)\n"
          ]
        },
        {
          "output_type": "display_data",
          "data": {
            "text/plain": [
              "<IPython.core.display.HTML object>"
            ],
            "text/html": [
              "<div><iframe src=\"https://0c31692048d12f33d7.gradio.live\" width=\"100%\" height=\"500\" allow=\"autoplay; camera; microphone; clipboard-read; clipboard-write;\" frameborder=\"0\" allowfullscreen></iframe></div>"
            ]
          },
          "metadata": {}
        },
        {
          "output_type": "execute_result",
          "data": {
            "text/plain": []
          },
          "metadata": {},
          "execution_count": 18
        }
      ]
    },
    {
      "cell_type": "markdown",
      "source": [
        "---\n",
        "The end 😍Goog job!"
      ],
      "metadata": {
        "id": "Y-NtiFHko_ip"
      }
    }
  ]
}