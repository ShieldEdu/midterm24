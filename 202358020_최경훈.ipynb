{
  "nbformat": 4,
  "nbformat_minor": 0,
  "metadata": {
    "colab": {
      "provenance": [],
      "authorship_tag": "ABX9TyOsaNoBy3KroPu7+rw/tIGv",
      "include_colab_link": true
    },
    "kernelspec": {
      "name": "python3",
      "display_name": "Python 3"
    },
    "language_info": {
      "name": "python"
    }
  },
  "cells": [
    {
      "cell_type": "markdown",
      "metadata": {
        "id": "view-in-github",
        "colab_type": "text"
      },
      "source": [
        "<a href=\"https://colab.research.google.com/github/ShieldEdu/midterm24/blob/main/202358020_%EC%B5%9C%EA%B2%BD%ED%9B%88.ipynb\" target=\"_parent\"><img src=\"https://colab.research.google.com/assets/colab-badge.svg\" alt=\"Open In Colab\"/></a>"
      ]
    },
    {
      "cell_type": "markdown",
      "source": [
        "#Question 1: addition"
      ],
      "metadata": {
        "id": "HpEP3AqUn8EL"
      }
    },
    {
      "cell_type": "code",
      "execution_count": null,
      "metadata": {
        "id": "BB9-Su34mxgv"
      },
      "outputs": [],
      "source": [
        "number1=\n",
        "number2=\n",
        "sum=number1+number2\n",
        "print(sum)"
      ]
    },
    {
      "cell_type": "markdown",
      "source": [
        "#Question 2"
      ],
      "metadata": {
        "id": "DIclJWO_pCOl"
      }
    },
    {
      "cell_type": "code",
      "source": [],
      "metadata": {
        "id": "52POT4jepw92"
      },
      "execution_count": null,
      "outputs": []
    },
    {
      "cell_type": "markdown",
      "source": [
        "#Question 3"
      ],
      "metadata": {
        "id": "PJCmIBfjpWIC"
      }
    },
    {
      "cell_type": "code",
      "source": [],
      "metadata": {
        "id": "oZHdhP3LpwLo"
      },
      "execution_count": null,
      "outputs": []
    },
    {
      "cell_type": "markdown",
      "source": [
        "#Question 4"
      ],
      "metadata": {
        "id": "8kYfumeupSoZ"
      }
    },
    {
      "cell_type": "code",
      "source": [],
      "metadata": {
        "id": "US3ahrOjpvl0"
      },
      "execution_count": null,
      "outputs": []
    },
    {
      "cell_type": "markdown",
      "source": [
        "#Question 5\n"
      ],
      "metadata": {
        "id": "O9bjsnU9phaW"
      }
    },
    {
      "cell_type": "code",
      "source": [],
      "metadata": {
        "id": "LROPad11piQp"
      },
      "execution_count": null,
      "outputs": []
    },
    {
      "cell_type": "markdown",
      "source": [
        "#Question 6"
      ],
      "metadata": {
        "id": "35AC2vT3pjwq"
      }
    },
    {
      "cell_type": "code",
      "source": [],
      "metadata": {
        "id": "wFodZPqlplOo"
      },
      "execution_count": null,
      "outputs": []
    },
    {
      "cell_type": "markdown",
      "source": [
        "#Question 7"
      ],
      "metadata": {
        "id": "XGc4YD7npl7p"
      }
    },
    {
      "cell_type": "code",
      "source": [],
      "metadata": {
        "id": "iMCHZLdupnoh"
      },
      "execution_count": null,
      "outputs": []
    },
    {
      "cell_type": "markdown",
      "source": [
        "#Question 8"
      ],
      "metadata": {
        "id": "uZ3OT57TpoLj"
      }
    },
    {
      "cell_type": "code",
      "source": [],
      "metadata": {
        "id": "Y2Y-JLjGpo5f"
      },
      "execution_count": null,
      "outputs": []
    },
    {
      "cell_type": "markdown",
      "source": [
        "#Question 9"
      ],
      "metadata": {
        "id": "IgdL6RK3ppzM"
      }
    },
    {
      "cell_type": "code",
      "source": [],
      "metadata": {
        "id": "7Wg08uaqppWe"
      },
      "execution_count": null,
      "outputs": []
    },
    {
      "cell_type": "markdown",
      "source": [
        "#Question 10"
      ],
      "metadata": {
        "id": "Pk_Ak74vprjG"
      }
    },
    {
      "cell_type": "code",
      "source": [],
      "metadata": {
        "id": "vUAJuXc7ptDI"
      },
      "execution_count": null,
      "outputs": []
    }
  ]
}