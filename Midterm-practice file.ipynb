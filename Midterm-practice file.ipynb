{
  "nbformat": 4,
  "nbformat_minor": 0,
  "metadata": {
    "colab": {
      "provenance": [],
      "authorship_tag": "ABX9TyOD7BkOWXBVfRwzROgB3siB",
      "include_colab_link": true
    },
    "kernelspec": {
      "name": "python3",
      "display_name": "Python 3"
    },
    "language_info": {
      "name": "python"
    }
  },
  "cells": [
    {
      "cell_type": "markdown",
      "metadata": {
        "id": "view-in-github",
        "colab_type": "text"
      },
      "source": [
        "<a href=\"https://colab.research.google.com/github/ShieldEdu/midterm24/blob/main/Midterm-practice%20file.ipynb\" target=\"_parent\"><img src=\"https://colab.research.google.com/assets/colab-badge.svg\" alt=\"Open In Colab\"/></a>"
      ]
    },
    {
      "cell_type": "code",
      "execution_count": null,
      "metadata": {
        "id": "8T2BFc0iosU2",
        "colab": {
          "base_uri": "https://localhost:8080/"
        },
        "outputId": "73afbcd3-f7fc-4601-b6d1-b72721eaa0b9"
      },
      "outputs": [
        {
          "output_type": "stream",
          "name": "stdout",
          "text": [
            "3\n",
            "3333\n"
          ]
        }
      ],
      "source": [
        "#Lesson4 types of data\n",
        "number=input()\n",
        "x=4\n",
        "print(x*number)"
      ]
    },
    {
      "cell_type": "code",
      "source": [
        "x=\"Hello, everyone welcome!\"\n",
        "print(x*3)"
      ],
      "metadata": {
        "colab": {
          "base_uri": "https://localhost:8080/"
        },
        "id": "Spr7z5fKRyZC",
        "outputId": "3942ac27-fad0-41f6-c06f-85a46c97c45a"
      },
      "execution_count": null,
      "outputs": [
        {
          "output_type": "stream",
          "name": "stdout",
          "text": [
            "Hello, everyone welcome!Hello, everyone welcome!Hello, everyone welcome!\n"
          ]
        }
      ]
    },
    {
      "cell_type": "code",
      "source": [
        "age=input()\n",
        "print(age*2)"
      ],
      "metadata": {
        "colab": {
          "base_uri": "https://localhost:8080/"
        },
        "id": "MC3f7ri2SfpX",
        "outputId": "87be8146-a841-4b14-e9ff-b69c93da319b"
      },
      "execution_count": null,
      "outputs": [
        {
          "output_type": "stream",
          "name": "stdout",
          "text": [
            "20\n",
            "2020\n"
          ]
        }
      ]
    },
    {
      "cell_type": "code",
      "source": [
        "age=input()\n",
        "age=int(age)\n",
        "print(age+3)"
      ],
      "metadata": {
        "colab": {
          "base_uri": "https://localhost:8080/"
        },
        "id": "dlrkglfNTDfS",
        "outputId": "6a3ea004-d011-4477-fee5-92717a3376d3"
      },
      "execution_count": null,
      "outputs": [
        {
          "output_type": "stream",
          "name": "stdout",
          "text": [
            "20\n",
            "23\n"
          ]
        }
      ]
    },
    {
      "cell_type": "code",
      "source": [
        "mathanswer=input()\n",
        "mathanswer=float(mathanswer)\n",
        "print(mathanswer+3)"
      ],
      "metadata": {
        "colab": {
          "base_uri": "https://localhost:8080/"
        },
        "id": "opB4cKSBTfQg",
        "outputId": "c723dfa4-a81a-4c53-8a29-ca1b4c0bb7cc"
      },
      "execution_count": null,
      "outputs": [
        {
          "output_type": "stream",
          "name": "stdout",
          "text": [
            "0.3\n",
            "3.3\n"
          ]
        }
      ]
    },
    {
      "cell_type": "code",
      "source": [
        "mathanswer=input()\n",
        "mathanswer=float(mathanswer)\n",
        "print(mathanswer+3)"
      ],
      "metadata": {
        "colab": {
          "base_uri": "https://localhost:8080/"
        },
        "id": "4BaKh95bT4Fe",
        "outputId": "0f269701-9c38-42ec-e4ea-d8a9d58416b7"
      },
      "execution_count": null,
      "outputs": [
        {
          "output_type": "stream",
          "name": "stdout",
          "text": [
            "3\n",
            "6.0\n"
          ]
        }
      ]
    },
    {
      "cell_type": "code",
      "source": [],
      "metadata": {
        "id": "jlbyI2woT-uq"
      },
      "execution_count": null,
      "outputs": []
    },
    {
      "cell_type": "markdown",
      "source": [
        "# New Section"
      ],
      "metadata": {
        "id": "-svf5q4-fUWy"
      }
    },
    {
      "cell_type": "code",
      "source": [
        "number1=27\n",
        "number2=35\n",
        "sum=number1+number2\n",
        "print(sum)"
      ],
      "metadata": {
        "id": "wPC1FTgUfb8O",
        "outputId": "e085d8bc-8979-44fc-f4c1-1e418de7bb94",
        "colab": {
          "base_uri": "https://localhost:8080/"
        }
      },
      "execution_count": null,
      "outputs": [
        {
          "output_type": "stream",
          "name": "stdout",
          "text": [
            "62\n"
          ]
        }
      ]
    },
    {
      "cell_type": "code",
      "source": [
        "number=input()\n",
        "x=4\n",
        "print(x*number)\n"
      ],
      "metadata": {
        "id": "IsFuRlvRfimS",
        "outputId": "4c990182-0dcf-481f-85c0-69ed4fbcf448",
        "colab": {
          "base_uri": "https://localhost:8080/"
        }
      },
      "execution_count": null,
      "outputs": [
        {
          "output_type": "stream",
          "name": "stdout",
          "text": [
            "3\n",
            "3333\n"
          ]
        }
      ]
    },
    {
      "cell_type": "code",
      "source": [
        "# Question 1: Addition"
      ],
      "metadata": {
        "id": "H85F3EOcM0K8"
      },
      "execution_count": null,
      "outputs": []
    },
    {
      "cell_type": "code",
      "source": [
        "# Step 1: Define two variables, `number1` and `number2`, and assign them values of 27 and 35.\n",
        "number1 = 27\n",
        "number2 = 35\n",
        "\n",
        "# Step 2: Calculate the sum of these two numbers and store the result in a variable called `sum`.\n",
        "sum = number1 + number2\n",
        "\n",
        "# Step 3: Print the result using the print function.\n",
        "print(sum)\n"
      ],
      "metadata": {
        "id": "e-YOMoNNOYUJ",
        "outputId": "e371a38b-7001-46eb-ecac-1b01d717a5ab",
        "colab": {
          "base_uri": "https://localhost:8080/"
        }
      },
      "execution_count": null,
      "outputs": [
        {
          "output_type": "stream",
          "name": "stdout",
          "text": [
            "62\n"
          ]
        }
      ]
    },
    {
      "cell_type": "code",
      "source": [
        "number1 = 27\n",
        "number2 = 35\n",
        "sum = number1 + number2\n",
        "print(sum)\n"
      ],
      "metadata": {
        "id": "zRRN-XkSOiOp",
        "outputId": "283dc766-cbde-4216-99ed-6cc1510d7b35",
        "colab": {
          "base_uri": "https://localhost:8080/"
        }
      },
      "execution_count": null,
      "outputs": [
        {
          "output_type": "stream",
          "name": "stdout",
          "text": [
            "62\n"
          ]
        }
      ]
    },
    {
      "cell_type": "code",
      "source": [
        "#**3.1 Text vs. Code cells"
      ],
      "metadata": {
        "id": "GoVkGFI6QYRL"
      },
      "execution_count": null,
      "outputs": []
    },
    {
      "cell_type": "markdown",
      "source": [
        "##Texts and code\n",
        "\n",
        "```\n",
        "# This is formatted as code\n",
        "```\n",
        "\n"
      ],
      "metadata": {
        "id": "k_I8AbCURz3K"
      }
    },
    {
      "cell_type": "code",
      "source": [
        "def add_numbers(num1, num2)\n",
        "result = num1+num2\n",
        "return result\n"
      ],
      "metadata": {
        "id": "FmV6ALXNRnOL",
        "outputId": "6ea24691-793e-41e4-9d50-c200f6047f03",
        "colab": {
          "base_uri": "https://localhost:8080/",
          "height": 110
        }
      },
      "execution_count": null,
      "outputs": [
        {
          "output_type": "error",
          "ename": "SyntaxError",
          "evalue": "expected ':' (<ipython-input-10-d5a71adae29e>, line 1)",
          "traceback": [
            "\u001b[0;36m  File \u001b[0;32m\"<ipython-input-10-d5a71adae29e>\"\u001b[0;36m, line \u001b[0;32m1\u001b[0m\n\u001b[0;31m    def add_numbers(num1, num2)\u001b[0m\n\u001b[0m                               ^\u001b[0m\n\u001b[0;31mSyntaxError\u001b[0m\u001b[0;31m:\u001b[0m expected ':'\n"
          ]
        }
      ]
    },
    {
      "cell_type": "code",
      "source": [
        "add_numbers(17,35\n",
        "            )"
      ],
      "metadata": {
        "id": "Rn-NLoBnYJ4e",
        "outputId": "683fb0e9-3dd9-4492-df25-5cbed5160565",
        "colab": {
          "base_uri": "https://localhost:8080/",
          "height": 164
        }
      },
      "execution_count": null,
      "outputs": [
        {
          "output_type": "error",
          "ename": "NameError",
          "evalue": "name 'add_numbers' is not defined",
          "traceback": [
            "\u001b[0;31m---------------------------------------------------------------------------\u001b[0m",
            "\u001b[0;31mNameError\u001b[0m                                 Traceback (most recent call last)",
            "\u001b[0;32m<ipython-input-9-a3a8f7e89dc8>\u001b[0m in \u001b[0;36m<cell line: 1>\u001b[0;34m()\u001b[0m\n\u001b[0;32m----> 1\u001b[0;31m add_numbers(17,35\n\u001b[0m\u001b[1;32m      2\u001b[0m             )\n",
            "\u001b[0;31mNameError\u001b[0m: name 'add_numbers' is not defined"
          ]
        }
      ]
    },
    {
      "cell_type": "code",
      "source": [
        "def add_numbers(number1, number2):\n",
        "    result = number1+number2\n",
        "    return result"
      ],
      "metadata": {
        "id": "mwHjCuFnYNlB"
      },
      "execution_count": null,
      "outputs": []
    },
    {
      "cell_type": "code",
      "source": [
        "add_numbers(17, 30\n",
        "          )"
      ],
      "metadata": {
        "id": "rIjdgqoZYrCN",
        "outputId": "5ee18027-9025-4bb6-b1b0-d22a1e0b4250",
        "colab": {
          "base_uri": "https://localhost:8080/"
        }
      },
      "execution_count": null,
      "outputs": [
        {
          "output_type": "execute_result",
          "data": {
            "text/plain": [
              "47"
            ]
          },
          "metadata": {},
          "execution_count": 15
        }
      ]
    },
    {
      "cell_type": "code",
      "source": [],
      "metadata": {
        "id": "VEd9FG-sZNQY"
      },
      "execution_count": null,
      "outputs": []
    }
  ]
}